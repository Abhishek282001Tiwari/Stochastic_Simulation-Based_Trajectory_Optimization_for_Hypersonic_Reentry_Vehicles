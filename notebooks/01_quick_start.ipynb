{
 "cells": [
  {
   "cell_type": "markdown",
   "metadata": {},
   "source": [
    "# Quick Start Guide\n",
    "\n",
    "This notebook provides a 5-minute introduction to the Hypersonic Reentry Trajectory Optimization Framework.\n",
    "\n",
    "## 🚀 Learning Objectives\n",
    "\n",
    "By the end of this notebook, you will:\n",
    "- Understand the basic framework components\n",
    "- Run your first trajectory simulation\n",
    "- Create a simple visualization\n",
    "- Calculate performance metrics\n",
    "\n",
    "## 📋 Prerequisites\n",
    "\n",
    "- Framework installed: `pip install -e .`\n",
    "- Python 3.8+ with NumPy, SciPy, Matplotlib"
   ]
  },
  {
   "cell_type": "code",
   "execution_count": null,
   "metadata": {},
   "outputs": [],
   "source": [
    "# Import required libraries\n",
    "import numpy as np\n",
    "import matplotlib.pyplot as plt\n",
    "import sys\n",
    "from pathlib import Path\n",
    "\n",
    "# Add framework to path (if not installed)\n",
    "sys.path.insert(0, str(Path('..') / 'src'))\n",
    "\n",
    "# Import framework components\n",
    "from hypersonic_reentry.dynamics import VehicleDynamics, VehicleState\n",
    "from hypersonic_reentry.atmosphere import USStandard1976\n",
    "from hypersonic_reentry.utils.constants import DEG_TO_RAD, RAD_TO_DEG\n",
    "\n",
    "print(\"✅ Framework imported successfully!\")\n",
    "print(f\"Python version: {sys.version}\")"
   ]
  },
  {
   "cell_type": "markdown",
   "metadata": {},
   "source": [
    "## Step 1: Create Atmosphere Model\n",
    "\n",
    "The US Standard Atmosphere 1976 provides realistic atmospheric properties including density, temperature, and pressure."
   ]
  },
  {
   "cell_type": "code",
   "execution_count": null,
   "metadata": {},
   "outputs": [],
   "source": [
    "# Create atmosphere model\n",
    "atmosphere = USStandard1976()\n",
    "\n",
    "# Test atmospheric properties at different altitudes\n",
    "altitudes = [0, 25000, 50000, 75000, 100000]  # meters\n",
    "\n",
    "print(\"Atmospheric Properties:\")\n",
    "print(\"Alt (km)  | Temp (K) | Press (Pa) | Density (kg/m³)\")\n",
    "print(\"-\" * 50)\n",
    "\n",
    "for alt in altitudes:\n",
    "    props = atmosphere.get_properties(alt)\n",
    "    print(f\"{alt/1000:8.1f} | {props['temperature']:8.1f} | {props['pressure']:10.2e} | {props['density']:11.4e}\")"
   ]
  },
  {
   "cell_type": "markdown",
   "metadata": {},
   "source": [
    "## Step 2: Define Vehicle Parameters\n",
    "\n",
    "Configure a representative hypersonic reentry vehicle with realistic parameters."
   ]
  },
  {
   "cell_type": "code",
   "execution_count": null,
   "metadata": {},
   "outputs": [],
   "source": [
    "# Define vehicle parameters\n",
    "vehicle_params = {\n",
    "    'mass': 5000.0,              # kg - vehicle mass\n",
    "    'reference_area': 15.0,      # m² - reference area for aerodynamics\n",
    "    'drag_coefficient': 1.2,     # dimensionless drag coefficient\n",
    "    'lift_coefficient': 0.8,     # dimensionless lift coefficient\n",
    "    'ballistic_coefficient': 400.0,  # kg/m² - mass/drag ratio\n",
    "    'nose_radius': 0.5,          # m - nose radius for heating\n",
    "    'length': 10.0,              # m - vehicle length\n",
    "    'diameter': 2.0              # m - maximum diameter\n",
    "}\n",
    "\n",
    "print(\"Vehicle Configuration:\")\n",
    "for param, value in vehicle_params.items():\n",
    "    print(f\"{param:20}: {value:8.1f}\")\n",
    "\n",
    "# Calculate derived parameters\n",
    "print(\"\\nDerived Parameters:\")\n",
    "print(f\"{'Ballistic Coeff':20}: {vehicle_params['ballistic_coefficient']:8.1f} kg/m²\")\n",
    "print(f\"{'L/D Ratio':20}: {vehicle_params['lift_coefficient']/vehicle_params['drag_coefficient']:8.2f}\")"
   ]
  },
  {
   "cell_type": "markdown",
   "metadata": {},
   "source": [
    "## Step 3: Create Vehicle Dynamics\n",
    "\n",
    "The VehicleDynamics class combines the vehicle parameters with the atmosphere model to solve the equations of motion."
   ]
  },
  {
   "cell_type": "code",
   "execution_count": null,
   "metadata": {},
   "outputs": [],
   "source": [
    "# Create vehicle dynamics system\n",
    "dynamics = VehicleDynamics(vehicle_params, atmosphere_model=atmosphere)\n",
    "\n",
    "print(\"✅ Vehicle dynamics system created\")\n",
    "print(f\"Vehicle type: Hypersonic reentry vehicle\")\n",
    "print(f\"Mass: {vehicle_params['mass']} kg\")\n",
    "print(f\"Reference area: {vehicle_params['reference_area']} m²\")"
   ]
  },
  {
   "cell_type": "markdown",
   "metadata": {},
   "source": [
    "## Step 4: Define Initial Conditions\n",
    "\n",
    "Set up initial conditions for a typical reentry from Low Earth Orbit (LEO)."
   ]
  },
  {
   "cell_type": "code",
   "execution_count": null,
   "metadata": {},
   "outputs": [],
   "source": [
    "# Define initial conditions (Kennedy Space Center reentry)\n",
    "initial_state = VehicleState(\n",
    "    altitude=120000.0,                    # 120 km altitude\n",
    "    latitude=28.5 * DEG_TO_RAD,          # Kennedy Space Center latitude\n",
    "    longitude=-80.6 * DEG_TO_RAD,        # Kennedy Space Center longitude  \n",
    "    velocity=7800.0,                     # 7.8 km/s - typical LEO velocity\n",
    "    flight_path_angle=-1.5 * DEG_TO_RAD, # -1.5° shallow entry\n",
    "    azimuth=90.0 * DEG_TO_RAD,          # Eastward flight\n",
    "    time=0.0                             # Start time\n",
    ")\n",
    "\n",
    "print(\"Initial Conditions:\")\n",
    "print(f\"Altitude:           {initial_state.altitude/1000:8.1f} km\")\n",
    "print(f\"Latitude:           {initial_state.latitude*RAD_TO_DEG:8.1f} °\")\n",
    "print(f\"Longitude:          {initial_state.longitude*RAD_TO_DEG:8.1f} °\")\n",
    "print(f\"Velocity:           {initial_state.velocity:8.1f} m/s\")\n",
    "print(f\"Flight path angle:  {initial_state.flight_path_angle*RAD_TO_DEG:8.1f} °\")\n",
    "print(f\"Azimuth:            {initial_state.azimuth*RAD_TO_DEG:8.1f} °\")"
   ]
  },
  {
   "cell_type": "markdown",
   "metadata": {},
   "source": [
    "## Step 5: Run Trajectory Simulation\n",
    "\n",
    "Integrate the equations of motion to simulate the reentry trajectory."
   ]
  },
  {
   "cell_type": "code",
   "execution_count": null,
   "metadata": {},
   "outputs": [],
   "source": [
    "# Run trajectory simulation\n",
    "print(\"🚀 Starting trajectory simulation...\")\n",
    "\n",
    "# Define simulation parameters\n",
    "time_span = (0.0, 2000.0)  # 2000 seconds simulation\n",
    "time_step = 1.0            # 1 second time step\n",
    "\n",
    "# Integrate trajectory\n",
    "trajectory = dynamics.integrate_trajectory(\n",
    "    initial_state=initial_state,\n",
    "    time_span=time_span,\n",
    "    time_step=time_step\n",
    ")\n",
    "\n",
    "print(f\"✅ Simulation complete!\")\n",
    "print(f\"Simulation time: {trajectory['time'][-1]:.1f} seconds\")\n",
    "print(f\"Data points: {len(trajectory['time'])}\")\n",
    "\n",
    "# Display final conditions\n",
    "print(\"\\nFinal Conditions:\")\n",
    "print(f\"Final altitude:     {trajectory['altitude'][-1]/1000:8.1f} km\")\n",
    "print(f\"Final velocity:     {trajectory['velocity'][-1]:8.1f} m/s\")\n",
    "print(f\"Downrange:          {trajectory['downrange'][-1]/1000:8.1f} km\")\n",
    "print(f\"Flight time:        {trajectory['time'][-1]/60:8.1f} minutes\")"
   ]
  },
  {
   "cell_type": "markdown",
   "metadata": {},
   "source": [
    "## Step 6: Create Visualizations\n",
    "\n",
    "Generate plots to understand the trajectory behavior."
   ]
  },
  {
   "cell_type": "code",
   "execution_count": null,
   "metadata": {},
   "outputs": [],
   "source": [
    "# Create comprehensive trajectory plots\n",
    "fig, axes = plt.subplots(2, 2, figsize=(14, 10))\n",
    "fig.suptitle('Hypersonic Reentry Trajectory Analysis', fontsize=16, fontweight='bold')\n",
    "\n",
    "# 1. Altitude vs Time\n",
    "axes[0,0].plot(trajectory['time']/60, trajectory['altitude']/1000, 'b-', linewidth=2)\n",
    "axes[0,0].set_xlabel('Time (minutes)')\n",
    "axes[0,0].set_ylabel('Altitude (km)')\n",
    "axes[0,0].set_title('Altitude Profile')\n",
    "axes[0,0].grid(True, alpha=0.3)\n",
    "\n",
    "# 2. Velocity vs Time  \n",
    "axes[0,1].plot(trajectory['time']/60, trajectory['velocity']/1000, 'r-', linewidth=2)\n",
    "axes[0,1].set_xlabel('Time (minutes)')\n",
    "axes[0,1].set_ylabel('Velocity (km/s)')\n",
    "axes[0,1].set_title('Velocity Profile')\n",
    "axes[0,1].grid(True, alpha=0.3)\n",
    "\n",
    "# 3. Altitude vs Velocity (Trajectory in state space)\n",
    "axes[1,0].plot(trajectory['velocity']/1000, trajectory['altitude']/1000, 'g-', linewidth=2)\n",
    "axes[1,0].set_xlabel('Velocity (km/s)')\n",
    "axes[1,0].set_ylabel('Altitude (km)')\n",
    "axes[1,0].set_title('Trajectory Phase Plane')\n",
    "axes[1,0].grid(True, alpha=0.3)\n",
    "\n",
    "# 4. Ground Track (if longitude/latitude data available)\n",
    "if 'latitude' in trajectory and 'longitude' in trajectory:\n",
    "    axes[1,1].plot(trajectory['longitude']*RAD_TO_DEG, trajectory['latitude']*RAD_TO_DEG, 'purple', linewidth=2)\n",
    "    axes[1,1].plot(initial_state.longitude*RAD_TO_DEG, initial_state.latitude*RAD_TO_DEG, 'go', markersize=8, label='Start')\n",
    "    axes[1,1].plot(trajectory['longitude'][-1]*RAD_TO_DEG, trajectory['latitude'][-1]*RAD_TO_DEG, 'ro', markersize=8, label='End')\n",
    "    axes[1,1].set_xlabel('Longitude (°)')\n",
    "    axes[1,1].set_ylabel('Latitude (°)')\n",
    "    axes[1,1].set_title('Ground Track')\n",
    "    axes[1,1].legend()\n",
    "    axes[1,1].grid(True, alpha=0.3)\n",
    "else:\n",
    "    # Downrange vs Time as alternative\n",
    "    axes[1,1].plot(trajectory['time']/60, trajectory['downrange']/1000, 'orange', linewidth=2)\n",
    "    axes[1,1].set_xlabel('Time (minutes)')\n",
    "    axes[1,1].set_ylabel('Downrange (km)')\n",
    "    axes[1,1].set_title('Downrange Distance')\n",
    "    axes[1,1].grid(True, alpha=0.3)\n",
    "\n",
    "plt.tight_layout()\n",
    "plt.show()\n",
    "\n",
    "print(\"📊 Trajectory plots created successfully!\")"
   ]
  },
  {
   "cell_type": "markdown",
   "metadata": {},
   "source": [
    "## Step 7: Calculate Performance Metrics\n",
    "\n",
    "Analyze the trajectory performance and key mission metrics."
   ]
  },
  {
   "cell_type": "code",
   "execution_count": null,
   "metadata": {},
   "outputs": [],
   "source": [
    "# Calculate performance metrics\n",
    "performance_metrics = {\n",
    "    'final_altitude_km': trajectory['altitude'][-1] / 1000,\n",
    "    'final_velocity_ms': trajectory['velocity'][-1],\n",
    "    'final_velocity_mach': trajectory['velocity'][-1] / 340,  # Approximate Mach number\n",
    "    'downrange_km': trajectory['downrange'][-1] / 1000,\n",
    "    'flight_time_min': trajectory['time'][-1] / 60,\n",
    "    'max_altitude_km': np.max(trajectory['altitude']) / 1000,\n",
    "    'min_altitude_km': np.min(trajectory['altitude']) / 1000,\n",
    "    'max_velocity_ms': np.max(trajectory['velocity']),\n",
    "    'min_velocity_ms': np.min(trajectory['velocity'])\n",
    "}\n",
    "\n",
    "# Add heat rate if available\n",
    "if 'heat_rate' in trajectory:\n",
    "    performance_metrics['max_heat_rate_MW_m2'] = np.max(trajectory['heat_rate']) / 1e6\n",
    "    \n",
    "# Add dynamic pressure if available  \n",
    "if 'dynamic_pressure' in trajectory:\n",
    "    performance_metrics['max_dynamic_pressure_kPa'] = np.max(trajectory['dynamic_pressure']) / 1000\n",
    "\n",
    "print(\"\\n📈 PERFORMANCE METRICS\")\n",
    "print(\"=\" * 40)\n",
    "\n",
    "print(\"\\n🎯 Mission Performance:\")\n",
    "print(f\"Final altitude:        {performance_metrics['final_altitude_km']:8.2f} km\")\n",
    "print(f\"Final velocity:        {performance_metrics['final_velocity_ms']:8.1f} m/s\")\n",
    "print(f\"Final Mach number:     {performance_metrics['final_velocity_mach']:8.2f}\")\n",
    "print(f\"Downrange distance:    {performance_metrics['downrange_km']:8.1f} km\")\n",
    "print(f\"Flight time:           {performance_metrics['flight_time_min']:8.1f} minutes\")\n",
    "\n",
    "print(\"\\n📊 Trajectory Extremes:\")\n",
    "print(f\"Max altitude:          {performance_metrics['max_altitude_km']:8.2f} km\")\n",
    "print(f\"Min altitude:          {performance_metrics['min_altitude_km']:8.2f} km\")\n",
    "print(f\"Max velocity:          {performance_metrics['max_velocity_ms']:8.1f} m/s\")\n",
    "print(f\"Min velocity:          {performance_metrics['min_velocity_ms']:8.1f} m/s\")\n",
    "\n",
    "if 'max_heat_rate_MW_m2' in performance_metrics:\n",
    "    print(f\"Max heat rate:         {performance_metrics['max_heat_rate_MW_m2']:8.2f} MW/m²\")\n",
    "    \n",
    "if 'max_dynamic_pressure_kPa' in performance_metrics:\n",
    "    print(f\"Max dynamic pressure:  {performance_metrics['max_dynamic_pressure_kPa']:8.1f} kPa\")"
   ]
  },
  {
   "cell_type": "markdown",
   "metadata": {},
   "source": [
    "## 🎉 Congratulations!\n",
    "\n",
    "You've successfully:\n",
    "- ✅ Created an atmospheric model\n",
    "- ✅ Configured a hypersonic vehicle\n",
    "- ✅ Simulated a reentry trajectory\n",
    "- ✅ Visualized the results\n",
    "- ✅ Calculated performance metrics\n",
    "\n",
    "## 🚀 Next Steps\n",
    "\n",
    "Now that you've mastered the basics, explore more advanced capabilities:\n",
    "\n",
    "1. **Uncertainty Analysis**: `02_framework_overview.ipynb`\n",
    "2. **Monte Carlo Simulation**: `03_monte_carlo_analysis.ipynb`\n",
    "3. **Trajectory Optimization**: `04_trajectory_optimization.ipynb`\n",
    "4. **Sensitivity Analysis**: `05_sensitivity_analysis.ipynb`\n",
    "\n",
    "## 🔗 Additional Resources\n",
    "\n",
    "- **User Guide**: `../USER_GUIDE.md`\n",
    "- **Methodology**: `../website/methodology.md`\n",
    "- **Examples**: `../examples/`\n",
    "- **API Documentation**: `../docs/api/`\n",
    "\n",
    "Happy analyzing! 🚀"
   ]
  }
 ],
 "metadata": {
  "kernelspec": {
   "display_name": "Python 3",
   "language": "python",
   "name": "python3"
  },
  "language_info": {
   "codemirror_mode": {
    "name": "ipython",
    "version": 3
   },
   "file_extension": ".py",
   "mimetype": "text/x-python",
   "name": "python",
   "nbconvert_exporter": "python",
   "pygments_lexer": "ipython3",
   "version": "3.8.0"
  }
 },
 "nbformat": 4,
 "nbformat_minor": 4
}
